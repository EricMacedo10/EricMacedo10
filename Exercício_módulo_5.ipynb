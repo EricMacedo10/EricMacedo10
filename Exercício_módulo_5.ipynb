{
  "nbformat": 4,
  "nbformat_minor": 0,
  "metadata": {
    "colab": {
      "provenance": [],
      "authorship_tag": "ABX9TyMmS8dF6LoxaYmbuxbE84id",
      "include_colab_link": true
    },
    "kernelspec": {
      "name": "python3",
      "display_name": "Python 3"
    },
    "language_info": {
      "name": "python"
    }
  },
  "cells": [
    {
      "cell_type": "markdown",
      "metadata": {
        "id": "view-in-github",
        "colab_type": "text"
      },
      "source": [
        "<a href=\"https://colab.research.google.com/github/EricMacedo10/EricMacedo10/blob/main/Exerc%C3%ADcio_m%C3%B3dulo_5.ipynb\" target=\"_parent\"><img src=\"https://colab.research.google.com/assets/colab-badge.svg\" alt=\"Open In Colab\"/></a>"
      ]
    },
    {
      "cell_type": "code",
      "source": [
        "# Passo 1: Utilize o comando ‘input’ para receber ao menos 2 números de entrada do usuário\n",
        "num1 = input(\"Digite o primeiro número: \")\n",
        "num2 = input(\"Digite o segundo número: \")\n",
        "\n",
        "# Passo 2: Converta os valores recebidos pelo usuário para número inteiro (int) ou ponto flutuante (float)\n",
        "num1 = float(num1)\n",
        "num2 = float(num2)\n",
        "\n",
        "# Funções para as operações matemáticas\n",
        "def soma(a, b):\n",
        "    return a + b\n",
        "\n",
        "def subtracao(a, b):\n",
        "    return a - b\n",
        "\n",
        "def multiplicacao(a, b):\n",
        "    return a * b\n",
        "\n",
        "def divisao(a, b):\n",
        "    if b != 0:\n",
        "        return a / b\n",
        "    else:\n",
        "        return \"Divisão por zero não é permitida\"\n",
        "\n",
        "# Passo 4: Adicione um laço de repetição ou uma condicional para o usuário escolher a operação\n",
        "while True:\n",
        "    print(\"\\nEscolha a operação:\")\n",
        "    print(\"1. Soma\")\n",
        "    print(\"2. Subtração\")\n",
        "    print(\"3. Multiplicação\")\n",
        "    print(\"4. Divisão\")\n",
        "    print(\"5. Sair\")\n",
        "\n",
        "    escolha = input(\"Digite a opção (1/2/3/4/5): \")\n",
        "\n",
        "    # Passo 5: Utilize o comando ‘print’ para exibir o resultado da operação matemática\n",
        "    if escolha == '1':\n",
        "        print(f\"O resultado da soma é: {soma(num1, num2)}\")\n",
        "    elif escolha == '2':\n",
        "        print(f\"O resultado da subtração é: {subtracao(num1, num2)}\")\n",
        "    elif escolha == '3':\n",
        "        print(f\"O resultado da multiplicação é: {multiplicacao(num1, num2)}\")\n",
        "    elif escolha == '4':\n",
        "        print(f\"O resultado da divisão é: {divisao(num1, num2)}\")\n",
        "    elif escolha == '5':\n",
        "        print(\"Saindo da calculadora.\")\n",
        "        break\n",
        "    else:\n",
        "        print(\"Opção inválida. Tente novamente.\")\n",
        "\n",
        "    # Pergunta se o usuário quer realizar outra operação\n",
        "    continuar = input(\"Deseja realizar outra operação? (s/n): \")\n",
        "    if continuar.lower() != 's':\n",
        "        print(\"Saindo da calculadora.\")\n",
        "        break\n"
      ],
      "metadata": {
        "colab": {
          "base_uri": "https://localhost:8080/"
        },
        "id": "iChNYIjV9P_H",
        "outputId": "7d41ccfa-dd6b-40e6-e4bc-5216bf5e1773"
      },
      "execution_count": 26,
      "outputs": [
        {
          "output_type": "stream",
          "name": "stdout",
          "text": [
            "Digite o primeiro número: 10\n",
            "Digite o segundo número: 5\n",
            "\n",
            "Escolha a operação:\n",
            "1. Soma\n",
            "2. Subtração\n",
            "3. Multiplicação\n",
            "4. Divisão\n",
            "5. Sair\n",
            "Digite a opção (1/2/3/4/5): 5\n",
            "Saindo da calculadora.\n"
          ]
        }
      ]
    }
  ]
}